{
 "cells": [
  {
   "cell_type": "markdown",
   "id": "9e03cfc1-8f03-407a-b3f4-471db7683271",
   "metadata": {},
   "source": [
    "# Basic Setup\n",
    "\n",
    "Install common required packages"
   ]
  },
  {
   "cell_type": "code",
   "execution_count": 1,
   "id": "1e728956-6fe1-4ed9-b74e-5f9eeab2daa3",
   "metadata": {
    "tags": []
   },
   "outputs": [
    {
     "name": "stdout",
     "output_type": "stream",
     "text": [
      "zsh:1: /Users/theopomies/projects/AI/data-science/templates/.venv/bin/pip3: bad interpreter: /Users/theopomies/projects/AI/data-science/.venv/bin/python: no such file or directory\n",
      "Requirement already satisfied: pandas in /opt/homebrew/lib/python3.11/site-packages (2.0.0)\n",
      "Requirement already satisfied: numpy in /opt/homebrew/lib/python3.11/site-packages (1.24.2)\n",
      "Requirement already satisfied: scikit-learn in /opt/homebrew/lib/python3.11/site-packages (1.2.2)\n",
      "Requirement already satisfied: matplotlib in /opt/homebrew/lib/python3.11/site-packages (3.7.1)\n",
      "Requirement already satisfied: python-dateutil>=2.8.2 in /opt/homebrew/lib/python3.11/site-packages (from pandas) (2.8.2)\n",
      "Requirement already satisfied: pytz>=2020.1 in /opt/homebrew/lib/python3.11/site-packages (from pandas) (2023.3)\n",
      "Requirement already satisfied: tzdata>=2022.1 in /opt/homebrew/lib/python3.11/site-packages (from pandas) (2023.3)\n",
      "Requirement already satisfied: scipy>=1.3.2 in /opt/homebrew/lib/python3.11/site-packages (from scikit-learn) (1.10.1)\n",
      "Requirement already satisfied: joblib>=1.1.1 in /opt/homebrew/lib/python3.11/site-packages (from scikit-learn) (1.2.0)\n",
      "Requirement already satisfied: threadpoolctl>=2.0.0 in /opt/homebrew/lib/python3.11/site-packages (from scikit-learn) (3.1.0)\n",
      "Requirement already satisfied: contourpy>=1.0.1 in /opt/homebrew/lib/python3.11/site-packages (from matplotlib) (1.0.7)\n",
      "Requirement already satisfied: cycler>=0.10 in /opt/homebrew/lib/python3.11/site-packages (from matplotlib) (0.11.0)\n",
      "Requirement already satisfied: fonttools>=4.22.0 in /opt/homebrew/lib/python3.11/site-packages (from matplotlib) (4.39.3)\n",
      "Requirement already satisfied: kiwisolver>=1.0.1 in /opt/homebrew/lib/python3.11/site-packages (from matplotlib) (1.4.4)\n",
      "Requirement already satisfied: packaging>=20.0 in /opt/homebrew/lib/python3.11/site-packages (from matplotlib) (23.0)\n",
      "Requirement already satisfied: pillow>=6.2.0 in /opt/homebrew/lib/python3.11/site-packages (from matplotlib) (9.5.0)\n",
      "Requirement already satisfied: pyparsing>=2.3.1 in /opt/homebrew/lib/python3.11/site-packages (from matplotlib) (3.0.9)\n",
      "Requirement already satisfied: six>=1.5 in /opt/homebrew/lib/python3.11/site-packages (from python-dateutil>=2.8.2->pandas) (1.16.0)\n"
     ]
    }
   ],
   "source": [
    "!pip3 install -U pandas numpy scikit-learn matplotlib"
   ]
  },
  {
   "cell_type": "markdown",
   "id": "a3d14c78-1181-4e1d-83dc-07a6068cdbc6",
   "metadata": {},
   "source": [
    "Now we can import and rename them"
   ]
  },
  {
   "cell_type": "code",
   "execution_count": 2,
   "id": "7523cb4b-ccd9-43de-a1da-72742783eca1",
   "metadata": {
    "tags": []
   },
   "outputs": [],
   "source": [
    "import pandas as pd\n",
    "import numpy as np\n",
    "import matplotlib.pyplot as plt\n",
    "import sklearn"
   ]
  },
  {
   "cell_type": "markdown",
   "id": "47290c76-2177-4fea-84f7-4971aab95855",
   "metadata": {},
   "source": [
    "Import the dataset"
   ]
  },
  {
   "cell_type": "code",
   "execution_count": 3,
   "id": "25bbbf4b-d7c8-4b10-b224-52ec24418cb9",
   "metadata": {
    "tags": []
   },
   "outputs": [],
   "source": [
    "dataset_path = \"./datasets/loans.csv\" # replace, obviously\n",
    "\n",
    "df = pd.read_csv(dataset_path)"
   ]
  },
  {
   "cell_type": "markdown",
   "id": "131a683c-6050-496e-a7a6-48dea1843167",
   "metadata": {
    "tags": []
   },
   "source": [
    "# Discovery"
   ]
  },
  {
   "cell_type": "code",
   "execution_count": 4,
   "id": "8a191e44-8dcf-4a0f-a57e-eab0f19067bc",
   "metadata": {
    "tags": []
   },
   "outputs": [
    {
     "name": "stdout",
     "output_type": "stream",
     "text": [
      "(150302, 5)\n",
      "<class 'pandas.core.frame.DataFrame'>\n",
      "RangeIndex: 150302 entries, 0 to 150301\n",
      "Data columns (total 5 columns):\n",
      " #   Column                Non-Null Count   Dtype  \n",
      "---  ------                --------------   -----  \n",
      " 0   Approval              150302 non-null  object \n",
      " 1   Debt-to-Income Ratio  150302 non-null  float64\n",
      " 2   FICO Score            150302 non-null  int64  \n",
      " 3   Request Amount        150302 non-null  int64  \n",
      " 4   Interest              150302 non-null  float64\n",
      "dtypes: float64(2), int64(2), object(1)\n",
      "memory usage: 5.7+ MB\n",
      "None\n",
      "       Debt-to-Income Ratio     FICO Score  Request Amount       Interest\n",
      "count         150302.000000  150302.000000   150302.000000  150302.000000\n",
      "mean               0.183538     672.023266    13427.080145    6042.186065\n",
      "std                0.137226      69.129157     9468.345958    4260.755681\n",
      "min                0.000000     371.000000      500.000000     225.000000\n",
      "25%                0.090000     647.000000     6000.000000    2700.000000\n",
      "50%                0.160000     684.000000    11000.000000    4950.000000\n",
      "75%                0.240000     714.000000    19000.000000    8550.000000\n",
      "max                1.030000     869.000000    44000.000000   19800.000000\n",
      "  Approval  Debt-to-Income Ratio  FICO Score  Request Amount  Interest\n",
      "0        F                   0.0         397            1000     450.0\n",
      "1        F                   0.0         403             500     225.0\n",
      "2        F                   0.0         408            1000     450.0\n",
      "3        F                   0.0         408            2000     900.0\n",
      "4        F                   0.0         411            5000    2250.0\n",
      "Approval\n",
      "T    75236\n",
      "F    75066\n",
      "Name: count, dtype: int64\n"
     ]
    }
   ],
   "source": [
    "# Lets familiarize ourselves with the data\n",
    "\n",
    "print(df.shape)\n",
    "print(df.info())\n",
    "print(df.describe())\n",
    "print(df.head())\n",
    "\n",
    "# Lets visualize the target variable\n",
    "print(df.Approval.value_counts())"
   ]
  },
  {
   "attachments": {},
   "cell_type": "markdown",
   "id": "1fcefc2c-ce79-4b85-a85e-4a199cfb62d6",
   "metadata": {},
   "source": [
    "# Data Preparation"
   ]
  },
  {
   "cell_type": "code",
   "execution_count": 5,
   "id": "4692c76b",
   "metadata": {},
   "outputs": [],
   "source": [
    "target_col = \"Approval\" # replace with the name of the target column"
   ]
  },
  {
   "attachments": {},
   "cell_type": "markdown",
   "id": "eadaad86",
   "metadata": {},
   "source": [
    "## Encode target variable (if needed)\n",
    "We can use the LabelEncoder from sklearn.preprocessing to encode the target variable."
   ]
  },
  {
   "cell_type": "code",
   "execution_count": 6,
   "id": "6bbcf7e4",
   "metadata": {},
   "outputs": [],
   "source": [
    "from sklearn.preprocessing import LabelEncoder\n",
    "\n",
    "# Lets encode the target variable\n",
    "label_encoder = LabelEncoder()\n",
    "df[target_col] = label_encoder.fit_transform(df[target_col])"
   ]
  },
  {
   "attachments": {},
   "cell_type": "markdown",
   "id": "6fad1344",
   "metadata": {},
   "source": [
    "## Split the dataset"
   ]
  },
  {
   "cell_type": "code",
   "execution_count": 7,
   "id": "aa628888",
   "metadata": {},
   "outputs": [],
   "source": [
    "from sklearn.model_selection import train_test_split\n",
    "\n",
    "# Remove rows with missing target, separate target from predictors\n",
    "df.dropna(axis=0, subset=[target_col], inplace=True)\n",
    "\n",
    "# Split dataset into training and test sets\n",
    "X, X_test = train_test_split(df, train_size=0.8, test_size=0.2, random_state=0)\n",
    "\n",
    "# Separate target from predictors\n",
    "y = X[target_col]\n",
    "X = X.drop([target_col], axis=1)\n",
    "y_test = X_test[target_col]\n",
    "X_test = X_test.drop([target_col], axis=1)\n",
    "\n",
    "# Break off validation set from training data\n",
    "X_train, X_valid, y_train, y_valid = train_test_split(X, y, train_size=0.8, test_size=0.2, random_state=0)"
   ]
  },
  {
   "attachments": {},
   "cell_type": "markdown",
   "id": "71d716fe",
   "metadata": {},
   "source": [
    "## Scoring function"
   ]
  },
  {
   "cell_type": "code",
   "execution_count": 8,
   "id": "0286b512",
   "metadata": {},
   "outputs": [],
   "source": [
    "from sklearn.ensemble import RandomForestRegressor\n",
    "from sklearn.metrics import mean_absolute_error\n",
    "\n",
    "# Function for comparing different approaches\n",
    "def score_dataset(X_train, X_valid, y_train, y_valid):\n",
    "    model = RandomForestRegressor(n_estimators=10, random_state=0)\n",
    "    model.fit(X_train, y_train)\n",
    "    preds = model.predict(X_valid)\n",
    "    return mean_absolute_error(y_valid, preds)"
   ]
  },
  {
   "attachments": {},
   "cell_type": "markdown",
   "id": "6c684359",
   "metadata": {},
   "source": [
    "# Categorical Features"
   ]
  },
  {
   "cell_type": "code",
   "execution_count": 9,
   "id": "f79ce9b3",
   "metadata": {},
   "outputs": [
    {
     "name": "stdout",
     "output_type": "stream",
     "text": [
      "Categorical variables:\n",
      "[]\n"
     ]
    }
   ],
   "source": [
    "# Get list of categorical variables\n",
    "s = (X_train.dtypes == 'object')\n",
    "object_cols = list(s[s].index)\n",
    "\n",
    "print(\"Categorical variables:\")\n",
    "print(object_cols)"
   ]
  },
  {
   "attachments": {},
   "cell_type": "markdown",
   "id": "064b1813",
   "metadata": {},
   "source": [
    "## Drop Features\n",
    "The easiest approach to dealing with categorical variables is to simply remove them from the dataset. This approach will only work well if the columns did not contain useful information.\n",
    "\n",
    "**Be careful with missing values**"
   ]
  },
  {
   "cell_type": "code",
   "execution_count": 10,
   "id": "da8c764b",
   "metadata": {},
   "outputs": [
    {
     "name": "stdout",
     "output_type": "stream",
     "text": [
      "Index(['Debt-to-Income Ratio', 'FICO Score', 'Request Amount', 'Interest'], dtype='object')\n",
      "Index(['Debt-to-Income Ratio', 'FICO Score', 'Request Amount', 'Interest'], dtype='object')\n"
     ]
    }
   ],
   "source": [
    "dropped_X_train = X_train.drop(columns=object_cols)\n",
    "dropped_X_valid = X_valid.drop(columns=object_cols)\n",
    "\n",
    "print(dropped_X_train.columns)\n",
    "print(dropped_X_valid.columns)"
   ]
  },
  {
   "attachments": {},
   "cell_type": "markdown",
   "id": "20dc7899",
   "metadata": {},
   "source": [
    "## Ordinal Encoding\n",
    "If the categories have an intrinsic order, we can use ordinal encoding.\n",
    "\n",
    "Here, we can see that Approval is categorical, so we need to convert it to numerical\n",
    "We can do this by using the LabelEncoder class from sklearn.preprocessing"
   ]
  },
  {
   "cell_type": "code",
   "execution_count": 11,
   "id": "d8fa89e4",
   "metadata": {},
   "outputs": [
    {
     "name": "stdout",
     "output_type": "stream",
     "text": [
      "        Debt-to-Income Ratio  FICO Score  Request Amount  Interest\n",
      "1621                    0.01         503           20000    9000.0\n",
      "36964                   0.18         748           25000   11250.0\n",
      "8156                    0.03         699           21000    9450.0\n",
      "113802                  0.15         684            3000    1350.0\n",
      "72231                   0.58         688            2000     900.0\n"
     ]
    }
   ],
   "source": [
    "from sklearn.preprocessing import OrdinalEncoder\n",
    "\n",
    "# Copy to avoid changing the original dataset\n",
    "label_X_train = X_train.copy()\n",
    "label_X_valid = X_valid.copy()\n",
    "\n",
    "# Lets encode the categorical variables\n",
    "# ordinal_map = {\"F\": 0, \"T\": 1, np.nan: np.nan} # if you want to use a custom mapping\n",
    "# ordinal_encoder = OrdinalEncoder(categories=[list(ordinal_map.keys())]) # if you want to use a custom mapping\n",
    "ordinal_encoder = OrdinalEncoder() # if you want to use the default mapping\n",
    "label_X_train[object_cols] = ordinal_encoder.fit_transform(label_X_train[object_cols])\n",
    "label_X_valid[object_cols] = ordinal_encoder.transform(label_X_valid[object_cols])\n",
    "\n",
    "print(label_X_train.head())"
   ]
  },
  {
   "attachments": {},
   "cell_type": "markdown",
   "id": "398baa54",
   "metadata": {},
   "source": [
    "### One-Hot Encoding\n",
    "If the categories do not have an intrinsic order, we can use one-hot encoding.\n",
    "\n",
    "_One-hot encoding creates new columns indicating the presence (or absence) of each possible value in the  original data. To understand this, we'll work through an example._"
   ]
  },
  {
   "cell_type": "code",
   "execution_count": 12,
   "id": "16e12847",
   "metadata": {},
   "outputs": [
    {
     "name": "stdout",
     "output_type": "stream",
     "text": [
      "        Debt-to-Income Ratio  FICO Score  Request Amount  Interest\n",
      "1621                    0.01         503           20000    9000.0\n",
      "36964                   0.18         748           25000   11250.0\n",
      "8156                    0.03         699           21000    9450.0\n",
      "113802                  0.15         684            3000    1350.0\n",
      "72231                   0.58         688            2000     900.0\n"
     ]
    },
    {
     "name": "stderr",
     "output_type": "stream",
     "text": [
      "/Users/theopomies/projects/AI/data-science/templates/.venv/lib/python3.11/site-packages/sklearn/preprocessing/_encoders.py:868: FutureWarning: `sparse` was renamed to `sparse_output` in version 1.2 and will be removed in 1.4. `sparse_output` is ignored unless you leave `sparse` to its default value.\n",
      "  warnings.warn(\n"
     ]
    }
   ],
   "source": [
    "from sklearn.preprocessing import OneHotEncoder\n",
    "\n",
    "# Apply one-hot encoder to each column with categorical data\n",
    "OH_encoder = OneHotEncoder(handle_unknown='ignore', sparse=False)\n",
    "OH_cols_train = pd.DataFrame(OH_encoder.fit_transform(X_train[object_cols]))\n",
    "OH_cols_valid = pd.DataFrame(OH_encoder.transform(X_valid[object_cols]))\n",
    "\n",
    "# One-hot encoding removed index; put it back\n",
    "OH_cols_train.index = X_train.index\n",
    "OH_cols_valid.index = X_valid.index\n",
    "\n",
    "# Remove categorical columns (will replace with one-hot encoding)\n",
    "num_X_train = X_train.drop(object_cols, axis=1)\n",
    "num_X_valid = X_valid.drop(object_cols, axis=1)\n",
    "\n",
    "# Add one-hot encoded columns to numerical features\n",
    "OH_X_train = pd.concat([num_X_train, OH_cols_train], axis=1)\n",
    "OH_X_valid = pd.concat([num_X_valid, OH_cols_valid], axis=1)\n",
    "\n",
    "print(OH_X_train.head())"
   ]
  },
  {
   "attachments": {},
   "cell_type": "markdown",
   "id": "7641b015",
   "metadata": {},
   "source": [
    "### Find Best Encoding"
   ]
  },
  {
   "cell_type": "code",
   "execution_count": 13,
   "id": "3857aa10",
   "metadata": {},
   "outputs": [
    {
     "name": "stdout",
     "output_type": "stream",
     "text": [
      "MAE from Approach 1 (Drop columns with categorical values):\n",
      "0.21792913518026827\n",
      "MAE from Approach 2 (Label Encoding):\n",
      "0.21792913518026827\n",
      "MAE from Approach 3 (One-Hot Encoding):\n",
      "0.21792913518026827\n"
     ]
    }
   ],
   "source": [
    "print(\"MAE from Approach 1 (Drop columns with categorical values):\")\n",
    "print(score_dataset(dropped_X_train, dropped_X_valid, y_train, y_valid))\n",
    "\n",
    "print(\"MAE from Approach 2 (Label Encoding):\")\n",
    "print(score_dataset(label_X_train, label_X_valid, y_train, y_valid))\n",
    "\n",
    "print(\"MAE from Approach 3 (One-Hot Encoding):\")\n",
    "print(score_dataset(OH_X_train, OH_X_valid, y_train, y_valid))"
   ]
  },
  {
   "attachments": {},
   "cell_type": "markdown",
   "id": "e7f0f774",
   "metadata": {},
   "source": [
    "## Missing Values"
   ]
  },
  {
   "cell_type": "code",
   "execution_count": 14,
   "id": "1ddf9f87",
   "metadata": {},
   "outputs": [
    {
     "name": "stdout",
     "output_type": "stream",
     "text": [
      "(96192, 4)\n",
      "Series([], dtype: int64)\n"
     ]
    }
   ],
   "source": [
    "# Shape of training data (num_rows, num_columns)\n",
    "print(X_train.shape)\n",
    "\n",
    "# Number of missing values in each column of training data\n",
    "missing_val_count_by_column = (X_train.isnull().sum())\n",
    "print(missing_val_count_by_column[missing_val_count_by_column > 0])\n",
    "\n",
    "missing_val_columns = list(missing_val_count_by_column[missing_val_count_by_column > 0].index)"
   ]
  },
  {
   "attachments": {},
   "cell_type": "markdown",
   "id": "50badb3e",
   "metadata": {},
   "source": [
    "### Option 1: Drop\n",
    "If too many missing values, drop the column"
   ]
  },
  {
   "cell_type": "code",
   "execution_count": 15,
   "id": "492b8fcb",
   "metadata": {},
   "outputs": [
    {
     "data": {
      "text/plain": [
       "Index(['Debt-to-Income Ratio', 'FICO Score', 'Request Amount', 'Interest'], dtype='object')"
      ]
     },
     "execution_count": 15,
     "metadata": {},
     "output_type": "execute_result"
    }
   ],
   "source": [
    "dropped_X_train = X_train.drop(columns=missing_val_columns)\n",
    "dropped_X_valid = X_valid.drop(columns=missing_val_columns)\n",
    "\n",
    "dropped_X_train.columns"
   ]
  },
  {
   "attachments": {},
   "cell_type": "markdown",
   "id": "533e648e",
   "metadata": {},
   "source": [
    "### Option 2: Impute\n",
    "If not too many missing values, impute the missing values"
   ]
  },
  {
   "cell_type": "code",
   "execution_count": 16,
   "id": "3ba2f7f1",
   "metadata": {},
   "outputs": [
    {
     "name": "stdout",
     "output_type": "stream",
     "text": [
      "Debt-to-Income Ratio    0\n",
      "FICO Score              0\n",
      "Request Amount          0\n",
      "Interest                0\n",
      "dtype: int64\n"
     ]
    }
   ],
   "source": [
    "from sklearn.impute import SimpleImputer\n",
    "\n",
    "imputer = SimpleImputer()\n",
    "imputed_X_train = pd.DataFrame(imputer.fit_transform(X_train))\n",
    "imputed_X_valid = pd.DataFrame(imputer.transform(X_valid)) # impute the validation data with the same imputer, fit on the training data\n",
    "\n",
    "# This removes the column names, so we need to add them back\n",
    "imputed_X_train.columns = X_train.columns\n",
    "imputed_X_valid.columns = X_valid.columns\n",
    "\n",
    "# Lets see if we have any missing values now\n",
    "new_missing_val_count_by_column = (X_train.isnull().sum())\n",
    "print(new_missing_val_count_by_column)\n"
   ]
  },
  {
   "attachments": {},
   "cell_type": "markdown",
   "id": "461d5e74",
   "metadata": {},
   "source": [
    "### Option 3: Impute with a new category\n",
    "But I don't know yet how to do this"
   ]
  },
  {
   "attachments": {},
   "cell_type": "markdown",
   "id": "594dd2e1",
   "metadata": {},
   "source": [
    "### Find Best Way to Handle Missing Values"
   ]
  },
  {
   "cell_type": "code",
   "execution_count": 17,
   "id": "b1d3829f",
   "metadata": {},
   "outputs": [
    {
     "name": "stdout",
     "output_type": "stream",
     "text": [
      "MAE from Approach 1 (Drop columns with missing values):\n",
      "0.21792913518026827\n",
      "MAE from Approach 2 (Imputation):\n",
      "0.21792913518026827\n"
     ]
    }
   ],
   "source": [
    "print(\"MAE from Approach 1 (Drop columns with missing values):\")\n",
    "print(score_dataset(dropped_X_train, dropped_X_valid, y_train, y_valid))\n",
    "\n",
    "print(\"MAE from Approach 2 (Imputation):\")\n",
    "print(score_dataset(imputed_X_train, imputed_X_valid, y_train, y_valid))"
   ]
  },
  {
   "attachments": {},
   "cell_type": "markdown",
   "id": "93c181a1",
   "metadata": {},
   "source": [
    "### Apply to Test Data"
   ]
  },
  {
   "cell_type": "code",
   "execution_count": 18,
   "id": "747ec989",
   "metadata": {},
   "outputs": [],
   "source": [
    "pass"
   ]
  },
  {
   "attachments": {},
   "cell_type": "markdown",
   "id": "5009af18",
   "metadata": {},
   "source": [
    "# Model Selection"
   ]
  },
  {
   "attachments": {},
   "cell_type": "markdown",
   "id": "bfd4e291",
   "metadata": {},
   "source": [
    "Once we have our model (RandomForest here), find the best parameters"
   ]
  },
  {
   "cell_type": "code",
   "execution_count": 19,
   "id": "f375af2c",
   "metadata": {},
   "outputs": [],
   "source": [
    "from sklearn.metrics import mean_absolute_error\n",
    "from sklearn.tree import DecisionTreeRegressor\n",
    "\n",
    "def get_mae(max_leaf_nodes, train_X, val_X, train_y, val_y):\n",
    "    model = DecisionTreeRegressor(max_leaf_nodes=max_leaf_nodes, random_state=0)\n",
    "    model.fit(train_X, train_y)\n",
    "    preds_val = model.predict(val_X)\n",
    "    mae = mean_absolute_error(val_y, preds_val)\n",
    "    return(mae)"
   ]
  },
  {
   "cell_type": "code",
   "execution_count": 20,
   "id": "f648bf0e",
   "metadata": {},
   "outputs": [
    {
     "name": "stdout",
     "output_type": "stream",
     "text": [
      "Max leaf nodes: 5  \t\t Mean Absolute Error:  0.23949718914549487\n",
      "Max leaf nodes: 50  \t\t Mean Absolute Error:  0.21618170043342042\n",
      "Max leaf nodes: 500  \t\t Mean Absolute Error:  0.21373533753889937\n",
      "Max leaf nodes: 5000  \t\t Mean Absolute Error:  0.2140777442110771\n"
     ]
    }
   ],
   "source": [
    "# compare MAE with differing values of max_leaf_nodes\n",
    "for max_leaf_nodes in [5, 50, 500, 5000]:\n",
    "    my_mae = get_mae(max_leaf_nodes, X_train, X_valid, y_train, y_valid)\n",
    "    print(f\"Max leaf nodes: {max_leaf_nodes}  \\t\\t Mean Absolute Error:  {my_mae}\")"
   ]
  },
  {
   "attachments": {},
   "cell_type": "markdown",
   "id": "a4352abc",
   "metadata": {},
   "source": [
    "500 is the best here, so we'll go with that"
   ]
  },
  {
   "attachments": {},
   "cell_type": "markdown",
   "id": "bc8d1f54",
   "metadata": {},
   "source": [
    "# Build Model"
   ]
  },
  {
   "cell_type": "code",
   "execution_count": 21,
   "id": "36d56879",
   "metadata": {},
   "outputs": [
    {
     "data": {
      "text/html": [
       "<style>#sk-container-id-1 {color: black;background-color: white;}#sk-container-id-1 pre{padding: 0;}#sk-container-id-1 div.sk-toggleable {background-color: white;}#sk-container-id-1 label.sk-toggleable__label {cursor: pointer;display: block;width: 100%;margin-bottom: 0;padding: 0.3em;box-sizing: border-box;text-align: center;}#sk-container-id-1 label.sk-toggleable__label-arrow:before {content: \"▸\";float: left;margin-right: 0.25em;color: #696969;}#sk-container-id-1 label.sk-toggleable__label-arrow:hover:before {color: black;}#sk-container-id-1 div.sk-estimator:hover label.sk-toggleable__label-arrow:before {color: black;}#sk-container-id-1 div.sk-toggleable__content {max-height: 0;max-width: 0;overflow: hidden;text-align: left;background-color: #f0f8ff;}#sk-container-id-1 div.sk-toggleable__content pre {margin: 0.2em;color: black;border-radius: 0.25em;background-color: #f0f8ff;}#sk-container-id-1 input.sk-toggleable__control:checked~div.sk-toggleable__content {max-height: 200px;max-width: 100%;overflow: auto;}#sk-container-id-1 input.sk-toggleable__control:checked~label.sk-toggleable__label-arrow:before {content: \"▾\";}#sk-container-id-1 div.sk-estimator input.sk-toggleable__control:checked~label.sk-toggleable__label {background-color: #d4ebff;}#sk-container-id-1 div.sk-label input.sk-toggleable__control:checked~label.sk-toggleable__label {background-color: #d4ebff;}#sk-container-id-1 input.sk-hidden--visually {border: 0;clip: rect(1px 1px 1px 1px);clip: rect(1px, 1px, 1px, 1px);height: 1px;margin: -1px;overflow: hidden;padding: 0;position: absolute;width: 1px;}#sk-container-id-1 div.sk-estimator {font-family: monospace;background-color: #f0f8ff;border: 1px dotted black;border-radius: 0.25em;box-sizing: border-box;margin-bottom: 0.5em;}#sk-container-id-1 div.sk-estimator:hover {background-color: #d4ebff;}#sk-container-id-1 div.sk-parallel-item::after {content: \"\";width: 100%;border-bottom: 1px solid gray;flex-grow: 1;}#sk-container-id-1 div.sk-label:hover label.sk-toggleable__label {background-color: #d4ebff;}#sk-container-id-1 div.sk-serial::before {content: \"\";position: absolute;border-left: 1px solid gray;box-sizing: border-box;top: 0;bottom: 0;left: 50%;z-index: 0;}#sk-container-id-1 div.sk-serial {display: flex;flex-direction: column;align-items: center;background-color: white;padding-right: 0.2em;padding-left: 0.2em;position: relative;}#sk-container-id-1 div.sk-item {position: relative;z-index: 1;}#sk-container-id-1 div.sk-parallel {display: flex;align-items: stretch;justify-content: center;background-color: white;position: relative;}#sk-container-id-1 div.sk-item::before, #sk-container-id-1 div.sk-parallel-item::before {content: \"\";position: absolute;border-left: 1px solid gray;box-sizing: border-box;top: 0;bottom: 0;left: 50%;z-index: -1;}#sk-container-id-1 div.sk-parallel-item {display: flex;flex-direction: column;z-index: 1;position: relative;background-color: white;}#sk-container-id-1 div.sk-parallel-item:first-child::after {align-self: flex-end;width: 50%;}#sk-container-id-1 div.sk-parallel-item:last-child::after {align-self: flex-start;width: 50%;}#sk-container-id-1 div.sk-parallel-item:only-child::after {width: 0;}#sk-container-id-1 div.sk-dashed-wrapped {border: 1px dashed gray;margin: 0 0.4em 0.5em 0.4em;box-sizing: border-box;padding-bottom: 0.4em;background-color: white;}#sk-container-id-1 div.sk-label label {font-family: monospace;font-weight: bold;display: inline-block;line-height: 1.2em;}#sk-container-id-1 div.sk-label-container {text-align: center;}#sk-container-id-1 div.sk-container {/* jupyter's `normalize.less` sets `[hidden] { display: none; }` but bootstrap.min.css set `[hidden] { display: none !important; }` so we also need the `!important` here to be able to override the default hidden behavior on the sphinx rendered scikit-learn.org. See: https://github.com/scikit-learn/scikit-learn/issues/21755 */display: inline-block !important;position: relative;}#sk-container-id-1 div.sk-text-repr-fallback {display: none;}</style><div id=\"sk-container-id-1\" class=\"sk-top-container\"><div class=\"sk-text-repr-fallback\"><pre>DecisionTreeRegressor(max_leaf_nodes=500, random_state=0)</pre><b>In a Jupyter environment, please rerun this cell to show the HTML representation or trust the notebook. <br />On GitHub, the HTML representation is unable to render, please try loading this page with nbviewer.org.</b></div><div class=\"sk-container\" hidden><div class=\"sk-item\"><div class=\"sk-estimator sk-toggleable\"><input class=\"sk-toggleable__control sk-hidden--visually\" id=\"sk-estimator-id-1\" type=\"checkbox\" checked><label for=\"sk-estimator-id-1\" class=\"sk-toggleable__label sk-toggleable__label-arrow\">DecisionTreeRegressor</label><div class=\"sk-toggleable__content\"><pre>DecisionTreeRegressor(max_leaf_nodes=500, random_state=0)</pre></div></div></div></div></div>"
      ],
      "text/plain": [
       "DecisionTreeRegressor(max_leaf_nodes=500, random_state=0)"
      ]
     },
     "execution_count": 21,
     "metadata": {},
     "output_type": "execute_result"
    }
   ],
   "source": [
    "model = DecisionTreeRegressor(max_leaf_nodes=500, random_state=0)\n",
    "\n",
    "model.fit(pd.concat([X_train, X_valid]), pd.concat([y_train, y_valid]))"
   ]
  },
  {
   "attachments": {},
   "cell_type": "markdown",
   "id": "97c26745",
   "metadata": {},
   "source": [
    "# Predict"
   ]
  },
  {
   "cell_type": "code",
   "execution_count": 22,
   "id": "7dc1fbb1",
   "metadata": {},
   "outputs": [],
   "source": [
    "y_pred = model.predict(X_test)"
   ]
  },
  {
   "attachments": {},
   "cell_type": "markdown",
   "id": "29e2915d",
   "metadata": {},
   "source": [
    "# Confusion Matrix"
   ]
  },
  {
   "cell_type": "code",
   "execution_count": 23,
   "id": "bc11b755",
   "metadata": {},
   "outputs": [
    {
     "data": {
      "text/plain": [
       "<sklearn.metrics._plot.confusion_matrix.ConfusionMatrixDisplay at 0x29a4a0710>"
      ]
     },
     "execution_count": 23,
     "metadata": {},
     "output_type": "execute_result"
    },
    {
     "data": {
      "image/png": "[encoded data removed]",
      "text/plain": [
       "<Figure size 640x480 with 2 Axes>"
      ]
     },
     "metadata": {},
     "output_type": "display_data"
    }
   ],
   "source": [
    "# Let's build a confusion matrix\n",
    "from sklearn.metrics import confusion_matrix, ConfusionMatrixDisplay\n",
    "\n",
    "y_pred = [1 if x > 0.5 else 0 for x in y_pred]\n",
    "\n",
    "matrix = confusion_matrix(y_test, y_pred)\n",
    "# display the matrix\n",
    "disp = ConfusionMatrixDisplay(confusion_matrix=matrix)\n",
    "\n",
    "disp.plot()\n"
   ]
  },
  {
   "attachments": {},
   "cell_type": "markdown",
   "id": "bae0c6ca",
   "metadata": {},
   "source": [
    "## Evaluate"
   ]
  },
  {
   "cell_type": "code",
   "execution_count": 24,
   "id": "62292a19",
   "metadata": {},
   "outputs": [
    {
     "name": "stdout",
     "output_type": "stream",
     "text": [
      "Accuracy: 0.8515352117361366\n",
      "Precision: 0.7758793969849246\n",
      "Recall: 0.9119546385257521\n",
      "F1: 0.8384317416645548\n"
     ]
    }
   ],
   "source": [
    "tp, fp, fn, tn = confusion_matrix(y_test, y_pred).ravel()\n",
    "\n",
    "accuracy = (tp + tn) / (tp + fp + fn + tn)\n",
    "precision = tp / (tp + fp)\n",
    "recall = tp / (tp + fn)\n",
    "f1 = 2 * (precision * recall) / (precision + recall)\n",
    "\n",
    "print(f\"Accuracy: {accuracy}\")\n",
    "print(f\"Precision: {precision}\")\n",
    "print(f\"Recall: {recall}\")\n",
    "print(f\"F1: {f1}\")"
   ]
  }
 ],
 "metadata": {
  "kernelspec": {
   "display_name": "Python 3 (ipykernel)",
   "language": "python",
   "name": "python3"
  },
  "language_info": {
   "codemirror_mode": {
    "name": "ipython",
    "version": 3
   },
   "file_extension": ".py",
   "mimetype": "text/x-python",
   "name": "python",
   "nbconvert_exporter": "python",
   "pygments_lexer": "ipython3",
   "version": "3.11.2"
  }
 },
 "nbformat": 4,
 "nbformat_minor": 5
}
